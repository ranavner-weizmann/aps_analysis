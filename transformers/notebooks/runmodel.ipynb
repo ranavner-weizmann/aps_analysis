{
 "cells": [
  {
   "cell_type": "code",
   "execution_count": 61,
   "metadata": {},
   "outputs": [
    {
     "name": "stdout",
     "output_type": "stream",
     "text": [
      "The autoreload extension is already loaded. To reload it, use:\n",
      "  %reload_ext autoreload\n"
     ]
    }
   ],
   "source": [
    "import torch\n",
    "import numpy as np\n",
    "import pandas as pd\n",
    "import os\n",
    "import sys\n",
    "\n",
    "%load_ext autoreload\n",
    "%autoreload 2\n",
    "\n",
    "sys.path.append('../code/src/')\n",
    "import tsf_tokenize\n",
    "import tokenize_utils"
   ]
  },
  {
   "cell_type": "code",
   "execution_count": null,
   "metadata": {},
   "outputs": [
    {
     "data": {
      "text/plain": [
       "torch.Size([32, 15])"
      ]
     },
     "execution_count": 62,
     "metadata": {},
     "output_type": "execute_result"
    }
   ],
   "source": [
    "# we need to create a validation mask (permenant missing values, not 'down for maintenence')\n",
    "\n",
    "input_t_path = '../data/station_tensors/'\n",
    "lst = []\n",
    "for t_name in os.listdir(input_t_path):\n",
    "    if 'shamat' in t_name:\n",
    "        continue\n",
    "    t = torch.load(os.path.join(input_t_path, t_name))\n",
    "    lst.append(tokenize_utils.avail_mask(t))\n",
    "\n",
    "ttt = torch.stack(lst)\n",
    "\n",
    "ttt.shape"
   ]
  },
  {
   "cell_type": "code",
   "execution_count": 32,
   "metadata": {},
   "outputs": [
    {
     "name": "stdout",
     "output_type": "stream",
     "text": [
      "ariel.pt\n",
      "torch.Size([66, 5, 15, 5])\n",
      "tensor([[  1.0000,   0.9000,   1.1000,   0.9000,   0.8000],\n",
      "        [  4.6000,   5.2000,   4.6000,   3.3000,   3.1000],\n",
      "        [  6.1000,   6.5000,   6.2000,   4.7000,   4.4000],\n",
      "        [ 91.2000,  92.3000,  93.5000,  94.5000,  95.1000],\n",
      "        [125.0000, 125.0000, 125.0000, 125.0000, 125.0000],\n",
      "        [     nan,      nan,      nan,      nan,      nan],\n",
      "        [     nan,      nan,      nan,      nan,      nan],\n",
      "        [     nan,      nan,      nan,      nan,      nan],\n",
      "        [     nan,      nan,      nan,      nan,      nan],\n",
      "        [     nan,      nan,      nan,      nan,      nan],\n",
      "        [     nan,      nan,      nan,      nan,      nan],\n",
      "        [     nan,      nan,      nan,      nan,      nan],\n",
      "        [     nan,      nan,      nan,      nan,      nan],\n",
      "        [     nan,      nan,      nan,      nan,      nan],\n",
      "        [     nan,      nan,      nan,      nan,      nan]])\n",
      "tensor([False, False, False, False, False,  True,  True,  True,  True,  True,\n",
      "         True,  True,  True,  True,  True])\n"
     ]
    }
   ],
   "source": [
    "input_t_path = '../data/station_tensors/'\n",
    "for pt in os.listdir(input_t_path):\n",
    "    print(pt)\n",
    "    t = torch.load(os.path.join(input_t_path, pt))\n",
    "    print(t.shape)\n",
    "    print(t[1,1,:,:])\n",
    "    print(avail_mask(t))\n",
    "\n",
    "    break"
   ]
  },
  {
   "cell_type": "code",
   "execution_count": 21,
   "metadata": {},
   "outputs": [
    {
     "ename": "TypeError",
     "evalue": "make_tsf_tokens() missing 1 required positional argument: 'avail_mask'",
     "output_type": "error",
     "traceback": [
      "\u001b[31m---------------------------------------------------------------------------\u001b[39m",
      "\u001b[31mTypeError\u001b[39m                                 Traceback (most recent call last)",
      "\u001b[36mCell\u001b[39m\u001b[36m \u001b[39m\u001b[32mIn[21]\u001b[39m\u001b[32m, line 1\u001b[39m\n\u001b[32m----> \u001b[39m\u001b[32m1\u001b[39m tokens = [\u001b[43mtsf_tokenize\u001b[49m\u001b[43m.\u001b[49m\u001b[43mmake_tsf_tokens\u001b[49m\u001b[43m(\u001b[49m\u001b[43mx\u001b[49m\u001b[43m)\u001b[49m \u001b[38;5;28;01mfor\u001b[39;00m x \u001b[38;5;129;01min\u001b[39;00m torch.load(os.path.join(input_t_path, pt))]\n",
      "\u001b[36mFile \u001b[39m\u001b[32m~/MSc/aps_analysis/.venv/lib/python3.13/site-packages/torch/utils/_contextlib.py:120\u001b[39m, in \u001b[36mcontext_decorator.<locals>.decorate_context\u001b[39m\u001b[34m(*args, **kwargs)\u001b[39m\n\u001b[32m    117\u001b[39m \u001b[38;5;129m@functools\u001b[39m.wraps(func)\n\u001b[32m    118\u001b[39m \u001b[38;5;28;01mdef\u001b[39;00m\u001b[38;5;250m \u001b[39m\u001b[34mdecorate_context\u001b[39m(*args, **kwargs):\n\u001b[32m    119\u001b[39m     \u001b[38;5;28;01mwith\u001b[39;00m ctx_factory():\n\u001b[32m--> \u001b[39m\u001b[32m120\u001b[39m         \u001b[38;5;28;01mreturn\u001b[39;00m \u001b[43mfunc\u001b[49m\u001b[43m(\u001b[49m\u001b[43m*\u001b[49m\u001b[43margs\u001b[49m\u001b[43m,\u001b[49m\u001b[43m \u001b[49m\u001b[43m*\u001b[49m\u001b[43m*\u001b[49m\u001b[43mkwargs\u001b[49m\u001b[43m)\u001b[49m\n",
      "\u001b[31mTypeError\u001b[39m: make_tsf_tokens() missing 1 required positional argument: 'avail_mask'"
     ]
    }
   ],
   "source": [
    "tokens = [tsf_tokenize.make_tsf_tokens(x) for x in torch.load(os.path.join(input_t_path, pt))]"
   ]
  }
 ],
 "metadata": {
  "kernelspec": {
   "display_name": ".venv",
   "language": "python",
   "name": "python3"
  },
  "language_info": {
   "codemirror_mode": {
    "name": "ipython",
    "version": 3
   },
   "file_extension": ".py",
   "mimetype": "text/x-python",
   "name": "python",
   "nbconvert_exporter": "python",
   "pygments_lexer": "ipython3",
   "version": "3.13.7"
  }
 },
 "nbformat": 4,
 "nbformat_minor": 5
}
